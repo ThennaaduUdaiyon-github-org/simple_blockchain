{
  "nbformat": 4,
  "nbformat_minor": 0,
  "metadata": {
    "colab": {
      "name": "Blockchain.ipynb",
      "provenance": [],
      "collapsed_sections": []
    },
    "kernelspec": {
      "name": "python3",
      "display_name": "Python 3"
    },
    "language_info": {
      "name": "python"
    }
  },
  "cells": [
    {
      "cell_type": "code",
      "source": [
        "print('Total number of possible outputs: \\n', 2**256)"
      ],
      "metadata": {
        "colab": {
          "base_uri": "https://localhost:8080/"
        },
        "id": "v9hiStYlvGAY",
        "outputId": "b2b26875-83d2-471a-ed2d-59b3d3bc2111"
      },
      "execution_count": null,
      "outputs": [
        {
          "output_type": "stream",
          "name": "stdout",
          "text": [
            "Total number of possible outputs: \n",
            " 115792089237316195423570985008687907853269984665640564039457584007913129639936\n"
          ]
        }
      ]
    },
    {
      "cell_type": "code",
      "metadata": {
        "id": "7eukblfpYSFw",
        "colab": {
          "base_uri": "https://localhost:8080/"
        },
        "outputId": "84535f21-283e-4e36-d68b-b80216d7377e"
      },
      "source": [
        "import hashlib\n",
        "h = hashlib.sha256()\n",
        "h.update('SHANKARAM!'.encode('utf-8'))\n",
        "\n",
        "print(h.hexdigest())\n",
        "print(int(h.hexdigest(), 16))"
      ],
      "execution_count": null,
      "outputs": [
        {
          "output_type": "stream",
          "name": "stdout",
          "text": [
            "164ac7284d560dc73549acef99935a9081dfce63c95d20e3d9f96727eca6b796\n",
            "10083003885690785939927329789380586011025278465845892625957090961538846996374\n"
          ]
        }
      ]
    },
    {
      "cell_type": "code",
      "source": [
        "int(h.hexdigest(), 16) < 2**256"
      ],
      "metadata": {
        "colab": {
          "base_uri": "https://localhost:8080/"
        },
        "id": "l0HjOJbUxjzz",
        "outputId": "ee3d71f3-2ace-456e-d14b-a2ba5b6e2310"
      },
      "execution_count": null,
      "outputs": [
        {
          "output_type": "execute_result",
          "data": {
            "text/plain": [
              "True"
            ]
          },
          "metadata": {},
          "execution_count": 29
        }
      ]
    },
    {
      "cell_type": "code",
      "source": [
        "h1 = hashlib.sha256()\n",
        "h1.update('SHANKARAM!'.encode('utf-8'))\n",
        "print(\"Hash1: \", int(h1.hexdigest(), 16))\n",
        "\n",
        "h2 = hashlib.sha256()\n",
        "h2.update('SHANKARA!'.encode('utf-8'))\n",
        "print(\"Hash2: \", int(h2.hexdigest(), 16))"
      ],
      "metadata": {
        "colab": {
          "base_uri": "https://localhost:8080/"
        },
        "id": "uGmx0FDa5fKO",
        "outputId": "257ecae3-db66-4e45-df7d-d32aa57c9d01"
      },
      "execution_count": null,
      "outputs": [
        {
          "output_type": "stream",
          "name": "stdout",
          "text": [
            "Hash1:  10083003885690785939927329789380586011025278465845892625957090961538846996374\n",
            "Hash2:  43185941668748673188092787428966825748993548073089542176970726640722655523542\n"
          ]
        }
      ]
    },
    {
      "cell_type": "code",
      "source": [
        "import hashlib\n",
        "\n",
        "class Block():\n",
        "    def __init__(self, data, previous_hash):\n",
        "        self.hash = hashlib.sha256()\n",
        "        self.previous_hash = previous_hash\n",
        "        self.nonce = 0\n",
        "        self.data = data\n",
        "        \n",
        "    def mine(self, difficulty):\n",
        "        self.hash.update(str(self).encode('utf-8'))\n",
        "        while int(self.hash.hexdigest(), 16) > 2**(256-difficulty):\n",
        "            self.nonce += 1\n",
        "            self.hash = hashlib.sha256()\n",
        "            self.hash.update(str(self).encode('utf-8'))\n",
        "        \n",
        "    def __str__(self):\n",
        "        return \"{}{}{}\".format(self.previous_hash.hexdigest(), self.data, self.nonce)"
      ],
      "metadata": {
        "id": "PtML07ynBA-S"
      },
      "execution_count": null,
      "outputs": []
    },
    {
      "cell_type": "code",
      "source": [
        "class Block():\n",
        "    def __str__(self):\n",
        "        return \"Hello World!\" \n",
        "\n",
        "blck_obj = Block()\n",
        "print(blck_obj) "
      ],
      "metadata": {
        "colab": {
          "base_uri": "https://localhost:8080/"
        },
        "id": "08o5R9vjBBG-",
        "outputId": "2f76b32a-71a5-4d40-ae2d-15a54b408610"
      },
      "execution_count": null,
      "outputs": [
        {
          "output_type": "stream",
          "name": "stdout",
          "text": [
            "Hello World!\n"
          ]
        }
      ]
    },
    {
      "cell_type": "code",
      "source": [
        "import hashlib\n",
        "\n",
        "class Chain():\n",
        "    def __init__(self, difficulty):\n",
        "        self.difficulty = difficulty\n",
        "        self.blocks = []\n",
        "        self.pool = []\n",
        "        self.create_origin_block()\n",
        "\n",
        "    def proof_of_work(self, block):\n",
        "        hash = hashlib.sha256()\n",
        "        hash.update(str(block).encode('utf-8'))\n",
        "        return block.hash.hexdigest() == hash.hexdigest() and\\\n",
        "                                        int(hash.hexdigest(), 16) < 2**(256-self.difficulty) and\\\n",
        "                                        block.previous_hash == self.blocks[-1].hash\n",
        "        \n",
        "    def add_to_chain(self, block):\n",
        "        if self.proof_of_work(block):\n",
        "            self.blocks.append(block)\n",
        "            \n",
        "    def add_to_pool(self, data):\n",
        "        self.pool.append(data)\n",
        "        \n",
        "    def create_origin_block(self):\n",
        "        h = hashlib.sha256()\n",
        "        h.update(''.encode('utf-8'))\n",
        "        origin = Block(\"Origin\", h)\n",
        "        origin.mine(self.difficulty)\n",
        "        self.blocks.append(origin)\n",
        "        \n",
        "    def mine(self):\n",
        "        if len(self.pool) > 0:\n",
        "            data = self.pool.pop()\n",
        "            block = Block(data, self.blocks[-1].hash)\n",
        "            block.mine(self.difficulty)\n",
        "            self.add_to_chain(block)\n",
        "            print(\"\\n=========================================================\")\n",
        "            print(\"Previous_hash: \", block.previous_hash.hexdigest())\n",
        "            print(\"Block_data: \", block.data)\n",
        "            print(\"Hash: \", block.hash.hexdigest())\n",
        "            print(\"Nonce: \", block.nonce)\n",
        "            print(\"==========================================================\\n\")\n"
      ],
      "metadata": {
        "id": "M0UkYXY0T3EP"
      },
      "execution_count": null,
      "outputs": []
    },
    {
      "cell_type": "code",
      "source": [
        "# Setting difficulty at the chain level to '20' \n",
        "chain = Chain(20)\n",
        "\n",
        "i = 0\n",
        "\n",
        "while(True):\n",
        "    data = input(\"Add something to the chain: \")\n",
        "    chain.add_to_pool(data)\n",
        "    chain.mine()\n",
        "    # print(chain.blocks[i])\n",
        "    i += 1"
      ],
      "metadata": {
        "colab": {
          "base_uri": "https://localhost:8080/"
        },
        "id": "YEgqCMo4mX5l",
        "outputId": "45e7c112-5f0c-4cf7-a871-9c4b525c672c"
      },
      "execution_count": null,
      "outputs": [
        {
          "output_type": "stream",
          "name": "stdout",
          "text": [
            "Add something to the chain: Shankaram\n",
            "\n",
            "=========================================================\n",
            "Previous_hash:  00000dcfe33cdc83865d5a2e02158288eb65e8f688e511634882d43f2e49ad1f\n",
            "Block_data:  Shankaram\n",
            "Hash:  000008d5e35c98a4a246d3ffb35814cb6619d5ac9d145035d5f81b7db2e5bae4\n",
            "Nonce:  214828\n",
            "==========================================================\n",
            "\n",
            "Add something to the chain: Siva\n",
            "\n",
            "=========================================================\n",
            "Previous_hash:  000008d5e35c98a4a246d3ffb35814cb6619d5ac9d145035d5f81b7db2e5bae4\n",
            "Block_data:  Siva\n",
            "Hash:  000006d60a97b31fd58e12d2645c0ce297437df2d90a6638c87ded0cca3f26b6\n",
            "Nonce:  2453500\n",
            "==========================================================\n",
            "\n",
            "Add something to the chain: Shankaram\n",
            "\n",
            "=========================================================\n",
            "Previous_hash:  000006d60a97b31fd58e12d2645c0ce297437df2d90a6638c87ded0cca3f26b6\n",
            "Block_data:  Shankaram\n",
            "Hash:  000000537fca7e4a03c3ce8ebb8899f1db74bf551fc54fcac65d9ffc93d13895\n",
            "Nonce:  98899\n",
            "==========================================================\n",
            "\n",
            "Add something to the chain: Poorana\n",
            "\n",
            "=========================================================\n",
            "Previous_hash:  000000537fca7e4a03c3ce8ebb8899f1db74bf551fc54fcac65d9ffc93d13895\n",
            "Block_data:  Poorana\n",
            "Hash:  0000031579db584f7d2331a95487b1641f0534e8e3a05829630ce975cc162bef\n",
            "Nonce:  342626\n",
            "==========================================================\n",
            "\n",
            "Add something to the chain: Brahmam\n",
            "\n",
            "=========================================================\n",
            "Previous_hash:  0000031579db584f7d2331a95487b1641f0534e8e3a05829630ce975cc162bef\n",
            "Block_data:  Brahmam\n",
            "Hash:  00000459041c598645f6b9a64cc33202062a19fde95d8c95dbb5211b667b4979\n",
            "Nonce:  270544\n",
            "==========================================================\n",
            "\n"
          ]
        }
      ]
    },
    {
      "cell_type": "code",
      "source": [
        "import hashlib,json\n",
        "from datetime import datetime\n",
        "\n",
        "class Block():\n",
        "    def __init__(self,tstamp,voterInfo,previoushash=''):\n",
        "        self.nonce = 0\n",
        "        self.tstamp = tstamp\n",
        "        self.voterInfo = voterInfo\n",
        "        self.previoushash = previoushash\n",
        "        self.hash = self.calcHash()\n",
        "    \n",
        "    def __str__(self):\n",
        "        string  = \"Nonce : \" + str(self.nonce)+\"\\n\"\n",
        "        string += \"voterInfo: \" +str(self.voterInfo)+\"\\n\"\n",
        "        string += \"Old hash: \" +str(self.previoushash)+\"\\n\"\n",
        "        string += \"New hash :\" + str(self.hash)+\"\\n\"\n",
        "        return string \n",
        "    \n",
        "    \n",
        "    def calcHash(self):\n",
        "        block_string = json.dumps({\"Chain Nonce\" : self.nonce,\\\n",
        "                                   \"VotinggTimestamp\" : str(self.tstamp),\\\n",
        "                                   \"voterInfo\" : self.voterInfo,\\\n",
        "                                   \"previoushash\":self.previoushash\\\n",
        "                                   }, sort_keys=True).encode()\n",
        "\n",
        "        return hashlib.sha256(block_string).hexdigest()\n",
        "        \n",
        "    def mineBlock(self,difficulty):\n",
        "        while(self.hash[:difficulty] != str('').zfill(difficulty)):\n",
        "            self.nonce += 1\n",
        "            self.hash = self.calcHash()\n"
      ],
      "metadata": {
        "id": "9XYCtpcJsPAq"
      },
      "execution_count": null,
      "outputs": []
    },
    {
      "cell_type": "code",
      "source": [
        "class BlockChain():\n",
        "    def __init__(self, difficulty):\n",
        "        self.chain = [self.generateGenesisBlock(),]\n",
        "        self.difficulty = difficulty\n",
        "\n",
        "    def generateGenesisBlock(self):\n",
        "        # Block (timeStamp, voterInfo, previousHash)\n",
        "        return Block(None, None, None)\n",
        "\n",
        "    def getLastBlock(self):\n",
        "        return self.chain[-1]\n",
        "\n",
        "    def addBlock(self,newBlock):\n",
        "        newBlock.previoushash = self.getLastBlock().hash\n",
        "        newBlock.mineBlock(self.difficulty)\n",
        "        self.chain.append(newBlock)\n",
        "\n",
        "    def isChainValid(self):\n",
        "        for i in range(1,len(self.chain)):\n",
        "            prevb = self.chain[i-1]\n",
        "            currb = self.chain[i]\n",
        "            if(currb.hash != currb.calcHash()):\n",
        "                print(\"Invalid Block\")\n",
        "                return False\n",
        "            if(currb.previoushash != prevb.hash):\n",
        "                print(\"Invalid Chain\")\n",
        "                return False\n",
        "        return True\n"
      ],
      "metadata": {
        "id": "8kjl7nMy7QwQ"
      },
      "execution_count": null,
      "outputs": []
    },
    {
      "cell_type": "code",
      "source": [
        "import datetime\n",
        "print(datetime.datetime.now())"
      ],
      "metadata": {
        "colab": {
          "base_uri": "https://localhost:8080/"
        },
        "id": "gNcTKcbA8uL1",
        "outputId": "c227c91d-b10a-4a5e-f04b-29d4033f4fa9"
      },
      "execution_count": null,
      "outputs": [
        {
          "output_type": "stream",
          "name": "stdout",
          "text": [
            "2021-12-10 10:54:52.205514\n"
          ]
        }
      ]
    },
    {
      "cell_type": "code",
      "source": [
        "bchain = BlockChain(3)\n",
        "i=1\n",
        "\n",
        "while i!=\"quit\":\n",
        "\n",
        "    age = int(input(\"Enter Your age: \"))\n",
        "   \n",
        "    if age >= 18:\n",
        "        print(\"You are eligible to vote! Cast your vote: \")\n",
        "    else:\n",
        "        print(\"Sorry, you are not eligible to vote\")\n",
        "        exit(1)\n",
        "    \n",
        "    # If eligible to vote ...\n",
        "    name = str(input(\"Enter your name: \"))\n",
        "    \n",
        "       \n",
        "    vote = int(input(\n",
        "                     \"\\nGiven below is the list of all sports:\" + \n",
        "                     \"\\n 1. Kabaddi\" + \n",
        "                     \"\\n 2. Kho-kho\" +\n",
        "                     \"\\n 3. Football\" +\n",
        "                     \"\\n 4. Swimming\" + \n",
        "                     \"\\n 5. Archery\" +\n",
        "                     \"\\n 6. Gymnastics\" + \n",
        "                     \"\\n 7. None of the above sports\" +\n",
        "                     \"\\nEnter your chosen option number: \"\n",
        "                    )\n",
        "               )\n",
        "    \n",
        "    if vote == 1:\n",
        "        chosen = \"Kabaddi\"\n",
        "    elif vote ==2 :\n",
        "        chosen = \"Kho-kho\"\n",
        "    elif vote == 3:\n",
        "        chosen = \"Football\"\n",
        "    elif vote == 4:\n",
        "        chosen = \"Swimming\"\n",
        "    elif vote == 5:\n",
        "        chosen = \"Archery\"\n",
        "    elif vote == 6:\n",
        "        chosen = \"Gymnastics\"\n",
        "    else:\n",
        "        chosen = \"NOTA\"\n",
        "        exit(1)\n",
        "\n",
        "    voteInfo = \"Name: \" + name +\\\n",
        "               \"\\nAge: \" + str(age) +\\\n",
        "               \"\\nChosen sport: \" + chosen\n",
        "\n",
        "    bchain.addBlock(Block(datetime.now(),voteInfo))\n",
        "\n",
        "    i = input(\"===============================================================\"\n",
        "              \"\\nType quit to close the system and get all voting details (or)\" +\n",
        "              \"\\nType cont for the next person to cast the vote \" +\n",
        "              \"\\n==============================================================\"\n",
        "             )\n",
        "\n",
        "for b in bchain.chain:\n",
        "    print(b)"
      ],
      "metadata": {
        "colab": {
          "base_uri": "https://localhost:8080/"
        },
        "id": "J49B5ypS_2EF",
        "outputId": "459a09ee-dcf9-423d-ae4e-d876e2310d3f"
      },
      "execution_count": null,
      "outputs": [
        {
          "output_type": "stream",
          "name": "stdout",
          "text": [
            "Enter Your age: 21\n",
            "You are eligible to vote! Cast your vote: \n",
            "Enter your name: Shiva Rupan S\n",
            "\n",
            "Given below is the list of all sports:\n",
            " 1. Kabaddi\n",
            " 2. Kho-kho\n",
            " 3. Football\n",
            " 4. Swimming\n",
            " 5. Archery\n",
            " 6. Gymnastics\n",
            " 7. None of the above sports\n",
            "Enter your chosen option number: 2\n",
            "===============================================================\n",
            "Type quit to close the system and get all voting details (or)\n",
            "Type cont for the next person to cast the vote \n",
            "==============================================================cont\n",
            "Enter Your age: 20\n",
            "You are eligible to vote! Cast your vote: \n",
            "Enter your name: Siva Shankar\n",
            "\n",
            "Given below is the list of all sports:\n",
            " 1. Kabaddi\n",
            " 2. Kho-kho\n",
            " 3. Football\n",
            " 4. Swimming\n",
            " 5. Archery\n",
            " 6. Gymnastics\n",
            " 7. None of the above sports\n",
            "Enter your chosen option number: 4\n",
            "===============================================================\n",
            "Type quit to close the system and get all voting details (or)\n",
            "Type cont for the next person to cast the vote \n",
            "==============================================================cont\n",
            "Enter Your age: 24\n",
            "You are eligible to vote! Cast your vote: \n",
            "Enter your name: Karthikeyan\n",
            "\n",
            "Given below is the list of all sports:\n",
            " 1. Kabaddi\n",
            " 2. Kho-kho\n",
            " 3. Football\n",
            " 4. Swimming\n",
            " 5. Archery\n",
            " 6. Gymnastics\n",
            " 7. None of the above sports\n",
            "Enter your chosen option number: 1\n",
            "===============================================================\n",
            "Type quit to close the system and get all voting details (or)\n",
            "Type cont for the next person to cast the vote \n",
            "==============================================================quit\n",
            "Nonce : 0\n",
            "voterInfo: None\n",
            "Old hash: None\n",
            "New hash :070948e6d7c088105367f83cad78bee4fac07fc576e25433e67ace8a293a4ab9\n",
            "\n",
            "Nonce : 9967\n",
            "voterInfo: Name: Shiva Rupan S\n",
            "Age: 21\n",
            "Chosen sport: Kho-kho\n",
            "Old hash: 070948e6d7c088105367f83cad78bee4fac07fc576e25433e67ace8a293a4ab9\n",
            "New hash :000b241b51a9eaaf68ea1b2945da52a543d892bc612bf075d1c49dbe258b601d\n",
            "\n",
            "Nonce : 1084\n",
            "voterInfo: Name: Siva Shankar\n",
            "Age: 20\n",
            "Chosen sport: Swimming\n",
            "Old hash: 000b241b51a9eaaf68ea1b2945da52a543d892bc612bf075d1c49dbe258b601d\n",
            "New hash :00016e44f2a69b840d55043b0cf75ccc685bf0fff8c347170511f719a8329386\n",
            "\n",
            "Nonce : 3592\n",
            "voterInfo: Name: Karthikeyan\n",
            "Age: 24\n",
            "Chosen sport: Kabaddi\n",
            "Old hash: 00016e44f2a69b840d55043b0cf75ccc685bf0fff8c347170511f719a8329386\n",
            "New hash :000da098e65631eb4b82660ebeb2781110da483a2ea9e332bab587a7c4da364e\n",
            "\n"
          ]
        }
      ]
    },
    {
      "cell_type": "markdown",
      "source": [
        "# **Workout**"
      ],
      "metadata": {
        "id": "w65wdGJcvIRO"
      }
    },
    {
      "cell_type": "code",
      "metadata": {
        "id": "gwg8Zs63Y2mn"
      },
      "source": [
        "h = hashlib.sha256()"
      ],
      "execution_count": null,
      "outputs": []
    },
    {
      "cell_type": "code",
      "metadata": {
        "id": "nUPWl-P44uMV"
      },
      "source": [
        "dir(h) # How to check class attributes????????????????"
      ],
      "execution_count": null,
      "outputs": []
    },
    {
      "cell_type": "code",
      "metadata": {
        "id": "JDb9TyKkY7zc"
      },
      "source": [
        "h.update('SHANKARAM'.encode('utf-8'))"
      ],
      "execution_count": null,
      "outputs": []
    },
    {
      "cell_type": "code",
      "metadata": {
        "colab": {
          "base_uri": "https://localhost:8080/",
          "height": 35
        },
        "id": "dQ_lPj30ZNW9",
        "outputId": "b87f5f10-ccf4-4011-de99-5cafb7ee918f"
      },
      "source": [
        "h.hexdigest()"
      ],
      "execution_count": null,
      "outputs": [
        {
          "output_type": "execute_result",
          "data": {
            "application/vnd.google.colaboratory.intrinsic+json": {
              "type": "string"
            },
            "text/plain": [
              "'bcedc77f1067d8e13334360b3de2da53fc0f0e6b4f84b2553c63615369dd3771'"
            ]
          },
          "metadata": {},
          "execution_count": 5
        }
      ]
    },
    {
      "cell_type": "code",
      "metadata": {
        "colab": {
          "base_uri": "https://localhost:8080/"
        },
        "id": "46fOQ05G5L4b",
        "outputId": "73b3313a-da64-4f74-b8a7-912956b4d168"
      },
      "source": [
        "h.digest()"
      ],
      "execution_count": null,
      "outputs": [
        {
          "output_type": "execute_result",
          "data": {
            "text/plain": [
              "b'\\xbc\\xed\\xc7\\x7f\\x10g\\xd8\\xe1346\\x0b=\\xe2\\xdaS\\xfc\\x0f\\x0ekO\\x84\\xb2U<caSi\\xdd7q'"
            ]
          },
          "metadata": {},
          "execution_count": 6
        }
      ]
    },
    {
      "cell_type": "code",
      "metadata": {
        "colab": {
          "base_uri": "https://localhost:8080/"
        },
        "id": "hUdamSSE5kIr",
        "outputId": "1e08d207-6ffa-4dbd-afb3-1cd44b287306"
      },
      "source": [
        "2**256"
      ],
      "execution_count": null,
      "outputs": [
        {
          "output_type": "execute_result",
          "data": {
            "text/plain": [
              "115792089237316195423570985008687907853269984665640564039457584007913129639936"
            ]
          },
          "metadata": {},
          "execution_count": 7
        }
      ]
    },
    {
      "cell_type": "code",
      "metadata": {
        "colab": {
          "base_uri": "https://localhost:8080/"
        },
        "id": "3cfSIMmT77No",
        "outputId": "3ca7d13d-4d11-41a1-eb24-9f419ec07e03"
      },
      "source": [
        "int(h.hexdigest(), 16)"
      ],
      "execution_count": null,
      "outputs": [
        {
          "output_type": "execute_result",
          "data": {
            "text/plain": [
              "85454935161170513071890040701296470368552421092243685980428348606442123376497"
            ]
          },
          "metadata": {},
          "execution_count": 11
        }
      ]
    },
    {
      "cell_type": "code",
      "metadata": {
        "colab": {
          "base_uri": "https://localhost:8080/"
        },
        "id": "83i1nI0L8Gja",
        "outputId": "4dd93e6e-db94-4dbe-c43f-9c8a8eb9ae4d"
      },
      "source": [
        "2**246 "
      ],
      "execution_count": null,
      "outputs": [
        {
          "output_type": "execute_result",
          "data": {
            "text/plain": [
              "113078212145816597093331040047546785012958969400039613319782796882727665664"
            ]
          },
          "metadata": {},
          "execution_count": 12
        }
      ]
    },
    {
      "cell_type": "code",
      "metadata": {
        "colab": {
          "base_uri": "https://localhost:8080/"
        },
        "id": "YXhchDvz8MzN",
        "outputId": "c90197a6-59db-4258-cf30-3e7bfeaca3f3"
      },
      "source": [
        "int(h.hexdigest(), 16) > 2**246\n"
      ],
      "execution_count": null,
      "outputs": [
        {
          "output_type": "execute_result",
          "data": {
            "text/plain": [
              "True"
            ]
          },
          "metadata": {},
          "execution_count": 13
        }
      ]
    },
    {
      "cell_type": "code",
      "metadata": {
        "id": "MLF2Gnf681Ne"
      },
      "source": [
        "i = 0 # Initial input \n",
        "h = hashlib.sha256() # Hash object\n",
        "h.update('i'.encode('utf-8')) # Encoding '0' in utf-8 format\n",
        "\n",
        "while (int(h.hexdigest(), 16) > 2**246):\n",
        "  i = i+1 # updating the integer value\n",
        "  h = hashlib.sha256()\n",
        "  h.update(str(i).encode('utf-8'))"
      ],
      "execution_count": null,
      "outputs": []
    },
    {
      "cell_type": "code",
      "metadata": {
        "colab": {
          "base_uri": "https://localhost:8080/"
        },
        "id": "cwaVNSfX81nV",
        "outputId": "6210d66e-4b0d-4059-8be9-fbd9d6fa8143"
      },
      "source": [
        "i"
      ],
      "execution_count": null,
      "outputs": [
        {
          "output_type": "execute_result",
          "data": {
            "text/plain": [
              "286"
            ]
          },
          "metadata": {},
          "execution_count": 6
        }
      ]
    },
    {
      "cell_type": "code",
      "metadata": {
        "id": "t4xruXuU817U",
        "colab": {
          "base_uri": "https://localhost:8080/",
          "height": 35
        },
        "outputId": "068fb7e5-4e53-425d-9418-74106ee59d2c"
      },
      "source": [
        "h.hexdigest()"
      ],
      "execution_count": null,
      "outputs": [
        {
          "output_type": "execute_result",
          "data": {
            "application/vnd.google.colaboratory.intrinsic+json": {
              "type": "string"
            },
            "text/plain": [
              "'00328ce57bbc14b33bd6695bc8eb32cdf2fb5f3a7d89ec14a42825e15d39df60'"
            ]
          },
          "metadata": {},
          "execution_count": 6
        }
      ]
    },
    {
      "cell_type": "code",
      "metadata": {
        "id": "Abkaln8i82Cz",
        "colab": {
          "base_uri": "https://localhost:8080/"
        },
        "outputId": "6c6c07b5-962d-4e9a-c310-f2d004891008"
      },
      "source": [
        "print(int(h.hexdigest(), 16))\n",
        "print(2**246)"
      ],
      "execution_count": null,
      "outputs": [
        {
          "output_type": "stream",
          "name": "stdout",
          "text": [
            "89314784586040526161857519195072211904965977134279285863185261572107394912\n",
            "113078212145816597093331040047546785012958969400039613319782796882727665664\n"
          ]
        }
      ]
    },
    {
      "cell_type": "code",
      "metadata": {
        "id": "mHUWJtm-82JO"
      },
      "source": [
        ""
      ],
      "execution_count": null,
      "outputs": []
    },
    {
      "cell_type": "code",
      "metadata": {
        "id": "LCKIl0UR82PX"
      },
      "source": [
        ""
      ],
      "execution_count": null,
      "outputs": []
    },
    {
      "cell_type": "code",
      "metadata": {
        "id": "XYHCBGQ75olm"
      },
      "source": [
        "class Block():\n",
        "  def __init__(self, data):\n",
        "    self.data = data\n",
        "    self.nonce = 0\n",
        "    self.hash = hashlib.sha256()\n",
        "\n",
        "  # Fix difficulty level, then obtain suitable number 'i'\n",
        "  def mine(self, difficulty):\n",
        "    \n",
        "    h = hashlib.sha256(); h.update(str(self).encode('utf-8'))\n",
        "    \n",
        "    while int(h.hexdigest(), 16) > 2**(256-difficulty):\n",
        "      self.nonce += 1\n",
        "      h = hashlib.sha256()\n",
        "      h.update(str(self).encode('utf-8'))\n",
        "\n",
        "    self.hash = h\n",
        "      \n",
        "\n",
        "  def __str__(self):\n",
        "    return \"{}{}\".format(self.data, self.nonce)\n",
        "    "
      ],
      "execution_count": null,
      "outputs": []
    },
    {
      "cell_type": "code",
      "metadata": {
        "id": "ojW7cu5y5pHu"
      },
      "source": [
        "obj = Block(\"Shankaram\")\n",
        "obj.mine(20)\n"
      ],
      "execution_count": null,
      "outputs": []
    },
    {
      "cell_type": "code",
      "metadata": {
        "id": "fwdqGXa25pRZ",
        "colab": {
          "base_uri": "https://localhost:8080/",
          "height": 35
        },
        "outputId": "eba9c4e0-0cb4-4ef1-984b-316a57da1bbd"
      },
      "source": [
        "obj.hash.hexdigest()"
      ],
      "execution_count": null,
      "outputs": [
        {
          "output_type": "execute_result",
          "data": {
            "application/vnd.google.colaboratory.intrinsic+json": {
              "type": "string"
            },
            "text/plain": [
              "'000003ad4f4ffaef077972d84abfcb359481e2b980e17431c1923b2cf087fa06'"
            ]
          },
          "metadata": {},
          "execution_count": 40
        }
      ]
    },
    {
      "cell_type": "code",
      "metadata": {
        "id": "e45p_56J5paa",
        "colab": {
          "base_uri": "https://localhost:8080/"
        },
        "outputId": "a33e7170-787d-4a02-cb85-f199b1c79628"
      },
      "source": [
        "obj.nonce"
      ],
      "execution_count": null,
      "outputs": [
        {
          "output_type": "execute_result",
          "data": {
            "text/plain": [
              "1106070"
            ]
          },
          "metadata": {},
          "execution_count": 41
        }
      ]
    },
    {
      "cell_type": "code",
      "source": [
        ""
      ],
      "metadata": {
        "id": "5YG2tbdUOZD5"
      },
      "execution_count": null,
      "outputs": []
    },
    {
      "cell_type": "code",
      "source": [
        "class what am i doing you are a leader you are to give hope to your team "
      ],
      "metadata": {
        "id": "ZNu151PZOZFf"
      },
      "execution_count": null,
      "outputs": []
    },
    {
      "cell_type": "code",
      "source": [
        "class Chain():\n",
        "  def __init__(self, difficulty):\n",
        "    self.difficulty = difficulty"
      ],
      "metadata": {
        "id": "glRH4nKpOZHn"
      },
      "execution_count": null,
      "outputs": []
    },
    {
      "cell_type": "code",
      "source": [
        ""
      ],
      "metadata": {
        "id": "89QY2-XfOZL2"
      },
      "execution_count": null,
      "outputs": []
    }
  ]
}